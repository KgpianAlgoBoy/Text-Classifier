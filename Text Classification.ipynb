{
 "cells": [
  {
   "cell_type": "code",
   "execution_count": 1,
   "metadata": {},
   "outputs": [
    {
     "data": {
      "text/plain": [
       "['talk.politics.mideast',\n",
       " '.DS_Store',\n",
       " 'rec.autos',\n",
       " 'comp.sys.mac.hardware',\n",
       " 'alt.atheism',\n",
       " 'rec.sport.baseball',\n",
       " 'comp.os.ms-windows.misc',\n",
       " 'rec.sport.hockey',\n",
       " 'sci.crypt',\n",
       " 'sci.med',\n",
       " 'talk.politics.misc',\n",
       " 'rec.motorcycles',\n",
       " 'comp.windows.x',\n",
       " 'comp.graphics',\n",
       " 'comp.sys.ibm.pc.hardware',\n",
       " 'sci.electronics',\n",
       " 'talk.politics.guns',\n",
       " 'sci.space',\n",
       " 'soc.religion.christian',\n",
       " 'misc.forsale',\n",
       " 'talk.religion.misc']"
      ]
     },
     "execution_count": 1,
     "metadata": {},
     "output_type": "execute_result"
    }
   ],
   "source": [
    "import os\n",
    "from sklearn.model_selection import train_test_split\n",
    "import numpy as np\n",
    "from sklearn.naive_bayes import MultinomialNB\n",
    "from sklearn.metrics import classification_report\n",
    "categories=os.listdir(\"/Users/divyamsharma/Desktop/20_newsgroups\")\n",
    "categories"
   ]
  },
  {
   "cell_type": "code",
   "execution_count": 2,
   "metadata": {},
   "outputs": [],
   "source": [
    "categories=os.listdir(\"/Users/divyamsharma/Desktop/20_newsgroups\")\n",
    "X=[]\n",
    "Y=[]\n",
    "for currcategory in categories:\n",
    "    if(currcategory!='.DS_Store'):\n",
    "        a=os.listdir(\n",
    "\"/Users/divyamsharma/Desktop/20_newsgroups/\"+currcategory)\n",
    "        for doc in a :\n",
    "            f=open(\"/Users/divyamsharma/Desktop/20_newsgroups/\"+currcategory+\"/\"+doc,\"rb\")\n",
    "            X.append(f.read())\n",
    "            Y.append(currcategory)\n",
    "      "
   ]
  },
  {
   "cell_type": "code",
   "execution_count": 3,
   "metadata": {},
   "outputs": [],
   "source": [
    "stopwords = ['i', 'me', 'my', 'myself', 'we', 'our', 'ours', 'ourselves', 'you', \"you're\", \"you've\", \"you'll\", \"you'd\", 'your', 'yours', 'yourself', 'yourselves', 'he', 'him', 'his', 'himself', 'she', \"she's\", 'her', 'hers', 'herself', 'it', \"it's\", 'its', 'itself', 'they', 'them', 'their', 'theirs', 'themselves', 'what', 'which', 'who', 'whom', 'this', 'that', \"that'll\", 'these', 'those', 'am', 'is', 'are', 'was', 'were', 'be', 'been', 'being', 'have', 'has', 'had', 'having', 'do', 'does', 'did', 'doing', 'a', 'an', 'the', 'and', 'but', 'if', 'or', 'because', 'as', 'until', 'while', 'of', 'at', 'by', 'for', 'with', 'about', 'against', 'between', 'into', 'through', 'during', 'before', 'after', 'above', 'below', 'to', 'from', 'up', 'down', 'in', 'out', 'on', 'off', 'over', 'under', 'again', 'further', 'then', 'once', 'here', 'there', 'when', 'where', 'why', 'how', 'all', 'any', 'both', 'each', 'few', 'more', 'most', 'other', 'some', 'such', 'no', 'nor', 'not', 'only', 'own', 'same', 'so', 'than', 'too', 'very', 's', 't', 'can', 'will', 'just', 'don', \"don't\", 'should', \"should've\", 'now', 'd', 'll', 'm', 'o', 're', 've', 'y', 'ain', 'aren', \"aren't\", 'couldn', \"couldn't\", 'didn', \"didn't\", 'doesn', \"doesn't\", 'hadn', \"hadn't\", 'hasn', \"hasn't\", 'haven', \"haven't\", 'isn', \"isn't\", 'ma', 'mightn', \"mightn't\", 'mustn', \"mustn't\", 'needn', \"needn't\", 'shan', \"shan't\", 'shouldn', \"shouldn't\", 'wasn', \"wasn't\", 'weren', \"weren't\", 'won', \"won't\", 'wouldn', \"wouldn't\"'a', 'about', 'above', 'across', 'after', 'afterwards', 'again', 'against', 'all', 'almost', 'alone',\n",
    "             'along', 'already', 'also', 'although', 'always', 'am', 'among', 'amongst', 'amoungst', 'amount',\n",
    "             'an', 'and', 'another', 'any', 'anyhow', 'anyone', 'anything', 'anyway', 'anywhere', 'are', 'around',\n",
    "             'as', 'at', 'back', 'be', 'became', 'because', 'become', 'becomes', 'becoming', 'been', 'before',\n",
    "             'beforehand', 'behind', 'being', 'below', 'beside', 'besides', 'between', 'beyond', 'bill', 'both',\n",
    "             'bottom', 'but', 'by', 'call', 'can', 'cannot', 'cant', 'co', 'con', 'could', 'couldnt', 'cry', 'de',\n",
    "             'describe', 'detail', 'did', 'do', 'does', 'doing', 'don', 'done', 'down', 'due', 'during', 'each', 'eg',\n",
    "             'eight', 'either', 'eleven', 'else', 'elsewhere', 'empty', 'enough', 'etc', 'even', 'ever', 'every', 'everyone',\n",
    "             'everything', 'everywhere', 'except', 'few', 'fifteen', 'fify', 'fill', 'find', 'fire', 'first', 'five', 'for',\n",
    "             'former', 'formerly', 'forty', 'found', 'four', 'from', 'front', 'full', 'further', 'get', 'give', 'go', 'had',\n",
    "             'has', 'hasnt', 'have', 'having', 'he', 'hence', 'her', 'here', 'hereafter', 'hereby', 'herein', 'hereupon',\n",
    "             'hers', 'herself', 'him', 'himself', 'his', 'how', 'however', 'hundred', 'i', 'ie', 'if', 'in', 'inc', 'indeed',\n",
    "             'interest', 'into', 'is', 'it', 'its', 'itself', 'just', 'keep', 'last', 'latter', 'latterly', 'least', 'less',\n",
    "             'ltd', 'made', 'many', 'may', 'me', 'meanwhile', 'might', 'mill', 'mine', 'more', 'moreover', 'most', 'mostly',\n",
    "             'move', 'much', 'must', 'my', 'myself', 'name', 'namely', 'neither', 'never', 'nevertheless', 'next', 'nine',\n",
    "             'no', 'nobody', 'none', 'noone', 'nor', 'not', 'nothing', 'now', 'nowhere', 'of', 'off', 'often', 'on', 'once',\n",
    "             'one', 'only', 'onto', 'or', 'other', 'others', 'otherwise', 'our', 'ours', 'ourselves', 'out', 'over', 'own',\n",
    "             'part', 'per', 'perhaps', 'please', 'put', 'rather', 're', 's', 'same', 'see', 'seem', 'seemed', 'seeming',\n",
    "             'seems', 'serious', 'several', 'she', 'should', 'show', 'side', 'since', 'sincere', 'six', 'sixty', 'so', \n",
    "             'some', 'somehow', 'someone', 'something', 'sometime', 'sometimes', 'somewhere', 'still', 'such', 'system',\n",
    "             't', 'take', 'ten', 'than', 'that', 'the', 'their', 'theirs', 'them', 'themselves', 'then', 'thence', 'there',\n",
    "             'thereafter', 'thereby', 'therefore', 'therein', 'thereupon', 'these', 'they', 'thickv', 'thin', 'third', 'this',\n",
    "             'those', 'though', 'three', 'through', 'throughout', 'thru', 'thus', 'to', 'together', 'too', 'top', 'toward',\n",
    "             'towards', 'twelve', 'twenty', 'two', 'un', 'under', 'until', 'up', 'upon', 'us', 'very', 'via', 'was', 'we',\n",
    "             'well', 'were', 'what', 'whatever', 'when', 'whence', 'whenever', 'where', 'whereafter', 'whereas', 'whereby',\n",
    "             'wherein', 'whereupon', 'wherever', 'whether', 'which', 'while', 'whither', 'who', 'whoever', 'whole', 'whom',\n",
    "             'whose', 'why', 'will', 'with', 'within', 'without', 'would', 'yet', 'you', 'your', 'yours', 'yourself',\n",
    "             'yourselves']"
   ]
  },
  {
   "cell_type": "code",
   "execution_count": 4,
   "metadata": {},
   "outputs": [],
   "source": [
    "X_train, X_test, Y_train, Y_test = train_test_split(X, Y, test_size=0.25, random_state=0)\n",
    "\n"
   ]
  },
  {
   "cell_type": "code",
   "execution_count": 5,
   "metadata": {},
   "outputs": [],
   "source": [
    "# function to build a vocabulary given X_train\n",
    "def GetVocab(X_train):\n",
    "    allwords = {}\n",
    "    for i in range(len(X_train)):\n",
    "        for word in X_train[i].split():\n",
    "            updated_word  = word.strip().lower()\n",
    "            if (updated_word not in stopwords):  \n",
    "                if updated_word in allwords.keys():\n",
    "                    allwords[updated_word]+=1\n",
    "                else:\n",
    "                    allwords[updated_word]=1\n",
    "    vocab=[]\n",
    "    for i in allwords:#building a vocab for words with frequency greater than 50, the value was found after plotting a graph\n",
    "        if allwords[i]>=50:\n",
    "            vocab.append(i)\n",
    "    return vocab\n",
    "            \n",
    "    "
   ]
  },
  {
   "cell_type": "code",
   "execution_count": 6,
   "metadata": {},
   "outputs": [],
   "source": [
    "vocabulary=GetVocab(X_train)"
   ]
  },
  {
   "cell_type": "code",
   "execution_count": 7,
   "metadata": {},
   "outputs": [],
   "source": [
    "#representing training data in form of 2d array with features as vocabulary\n",
    "def FinalX(X,vocabulary):\n",
    "    Final_X=np.zeros((len(X),len(vocabulary)))\n",
    "    for i in range(len(X)):\n",
    "        word_list = [ word.strip().lower() for word in X[i].split()]\n",
    "        for word in word_list:\n",
    "            if(word in vocabulary):\n",
    "                 Final_X[i][vocabulary.index(word)] += 1\n",
    "    return Final_X\n",
    "                \n",
    "            "
   ]
  },
  {
   "cell_type": "code",
   "execution_count": 8,
   "metadata": {},
   "outputs": [],
   "source": [
    "X_train=FinalX(X_train,vocabulary)\n",
    "X_test=FinalX(X_test,vocabulary)"
   ]
  },
  {
   "cell_type": "code",
   "execution_count": 9,
   "metadata": {},
   "outputs": [
    {
     "name": "stdout",
     "output_type": "stream",
     "text": [
      "Inbuilt NB score on training data : 0.8959125158365007\n",
      "Inbuilt NB score on testing data : 0.8446\n",
      "Classification report :-\n",
      "                          precision    recall  f1-score   support\n",
      "\n",
      "             alt.atheism       0.72      0.79      0.76       240\n",
      "           comp.graphics       0.76      0.75      0.75       244\n",
      " comp.os.ms-windows.misc       0.83      0.85      0.84       240\n",
      "comp.sys.ibm.pc.hardware       0.86      0.85      0.85       256\n",
      "   comp.sys.mac.hardware       0.86      0.91      0.88       249\n",
      "          comp.windows.x       0.90      0.80      0.85       233\n",
      "            misc.forsale       0.70      0.86      0.77       259\n",
      "               rec.autos       0.86      0.91      0.88       253\n",
      "         rec.motorcycles       0.84      0.93      0.88       231\n",
      "      rec.sport.baseball       0.91      0.96      0.94       236\n",
      "        rec.sport.hockey       0.98      0.90      0.94       261\n",
      "               sci.crypt       0.96      0.92      0.94       269\n",
      "         sci.electronics       0.82      0.89      0.85       246\n",
      "                 sci.med       0.97      0.86      0.91       284\n",
      "               sci.space       0.88      0.90      0.89       248\n",
      "  soc.religion.christian       0.95      0.98      0.96       281\n",
      "      talk.politics.guns       0.79      0.85      0.82       253\n",
      "   talk.politics.mideast       0.91      0.80      0.85       233\n",
      "      talk.politics.misc       0.73      0.68      0.70       248\n",
      "      talk.religion.misc       0.65      0.47      0.54       236\n",
      "\n",
      "             avg / total       0.85      0.84      0.84      5000\n",
      "\n"
     ]
    }
   ],
   "source": [
    "# Using sklearn's inbuilt Multinomial Naive Bayes\n",
    "clf = MultinomialNB()\n",
    "clf.fit(X_train,Y_train)\n",
    "Y_test_pred = clf.predict(X_test)\n",
    "inbuiltNB_score_train = clf.score(X_train,Y_train)\n",
    "print(\"Inbuilt NB score on training data :\",inbuiltNB_score_train)\n",
    "inbuiltNB_score_test = clf.score(X_test,Y_test)\n",
    "print(\"Inbuilt NB score on testing data :\",inbuiltNB_score_test)\n",
    "print(\"Classification report :-\")\n",
    "print(classification_report(Y_test, Y_test_pred))"
   ]
  },
  {
   "cell_type": "code",
   "execution_count": 18,
   "metadata": {},
   "outputs": [],
   "source": [
    "#self implemented Naive Bayes\n",
    "\n",
    "def fit(X_train,Y_train,vocabulary):  \n",
    "        result={}\n",
    "        class_values=set(Y_train)\n",
    "        for current_class in class_values:\n",
    "            result[current_class]={}\n",
    "            result[current_class]['total_words']=0\n",
    "            for i in range(len(Y_train)):\n",
    "                if(Y_train[i]==current_class):\n",
    "                    for j in range(len(vocabulary)):\n",
    "                        if(vocabulary[j]in result[current_class].keys()):\n",
    "                            result[current_class][vocabulary[j]]+=X_train[i][j]\n",
    "                        else:\n",
    "                            result[current_class][vocabulary[j]]=X_train[i][j]\n",
    "                        result[current_class]['total_words']+=X_train[i][j]\n",
    "\n",
    "        '''num_features=x_train.shape[1]\n",
    "        for j in range(num_features):\n",
    "            result[current_class][j]={}\n",
    "            all_possible_values=set(x_train[:,j])\n",
    "            for current_value in all_possible_values:\n",
    "                count=0\n",
    "                for i in (current_class_data[:,j]):\n",
    "                    if(i==current_value):\n",
    "                        count+=1\n",
    "                result[current_class][j][current_value]=count'''\n",
    "        return result\n",
    "        \n",
    "        '''categories = set(Y_train)\n",
    "        for category_ in categories:\n",
    "            self.count[class_] = {}\n",
    "            for i in range(len(X_train[0])):\n",
    "                self.count[class_][i] = 0\n",
    "            self.count[class_]['total'] = 0\n",
    "        self.count['total_points'] = len(X_train)\n",
    "        \n",
    "        for i in range(len(X_train)):\n",
    "            for j in range(len(X_train[0])):\n",
    "                self.count[Y_train[i]][j]+=X_train[i][j]\n",
    "            self.count[Y_train[i]]['total']+=1*/'''"
   ]
  },
  {
   "cell_type": "code",
   "execution_count": null,
   "metadata": {},
   "outputs": [],
   "source": [
    "def logprobability(dictionary,data,category):\n",
    "    tempans=np.log(1/20)\n",
    "    ans=0\n",
    "    for i in range (len(data)):\n",
    "        ans=ans+ data[i]*(np.log(dictionary[category][vocabulary[i]]+1)-np.log(dictionary[category]['total_words']+20))\n",
    "        \n",
    "    return ans+tempans\n",
    "    \n",
    "    \n",
    "    \n"
   ]
  },
  {
   "cell_type": "code",
   "execution_count": null,
   "metadata": {},
   "outputs": [],
   "source": [
    "def predictsinglepoint(dictionary,x):\n",
    "    classes=dictionary.keys()\n",
    "    first_run=True\n",
    "    for current_class in classes:\n",
    "        p_current_class=logprobability(dictionary,x,current_class)\n",
    "        if(first_run or p_current_class<best_p):\n",
    "            best_p=p_current_class\n",
    "            best_class=current_class\n",
    "        first_run=False\n",
    "    return best_class"
   ]
  },
  {
   "cell_type": "code",
   "execution_count": null,
   "metadata": {},
   "outputs": [],
   "source": [
    "def predict(dictionary,x_test):\n",
    "    y_pred=[]\n",
    "    for x in x_test:\n",
    "        x_class=predictsinglepoint(dictionary,x)\n",
    "        y_pred.append(x_class)\n",
    "    return y_pred"
   ]
  },
  {
   "cell_type": "code",
   "execution_count": null,
   "metadata": {},
   "outputs": [],
   "source": [
    "   def score(Y_pred,Y_true):\n",
    "        # returns the accuracy\n",
    "        count = 0\n",
    "        for i in range(len(Y_pred)):\n",
    "            if Y_pred[i] == Y_true[i]:\n",
    "                count+=1\n",
    "        return count/len(Y_pred)"
   ]
  },
  {
   "cell_type": "code",
   "execution_count": null,
   "metadata": {},
   "outputs": [],
   "source": [
    "dictionary=fit(X_train,Y_train,vocabulary)\n"
   ]
  },
  {
   "cell_type": "code",
   "execution_count": null,
   "metadata": {},
   "outputs": [],
   "source": [
    "Y_pred=predict(dictionary,X_test)"
   ]
  },
  {
   "cell_type": "code",
   "execution_count": null,
   "metadata": {},
   "outputs": [],
   "source": [
    "score(Y_pred,Y_test)"
   ]
  }
 ],
 "metadata": {
  "kernelspec": {
   "display_name": "Python 3",
   "language": "python",
   "name": "python3"
  },
  "language_info": {
   "codemirror_mode": {
    "name": "ipython",
    "version": 3
   },
   "file_extension": ".py",
   "mimetype": "text/x-python",
   "name": "python",
   "nbconvert_exporter": "python",
   "pygments_lexer": "ipython3",
   "version": "3.6.4"
  }
 },
 "nbformat": 4,
 "nbformat_minor": 2
}
